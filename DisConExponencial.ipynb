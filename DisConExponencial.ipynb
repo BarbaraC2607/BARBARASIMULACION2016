{
 "cells": [
  {
   "cell_type": "code",
   "execution_count": 1,
   "metadata": {
    "collapsed": false
   },
   "outputs": [
    {
     "name": "stdout",
     "output_type": "stream",
     "text": [
      "Ingrese el valor de lambda: \n",
      "13\n",
      "Ingrese el valor de la semilla: \n",
      "23\n",
      "0.0769230769231\n",
      "0.0769230769231\n",
      "0.0769230769231\n",
      "0.0769230769231\n",
      "0.0769230769231\n",
      "0.0769230769231\n",
      "0.0769230769231\n",
      "0.0769230769231\n",
      "0.0769230769231\n",
      "0.0769230769231\n",
      "[0.024496440855271893, 0.004663432447418065, 0.03118962370062803, 0.04024985721265753, 0.03734675506013083, 0.02091797811412629, 0.04304736830272482, 0.05087680632656654, 0.04835451226325955, 0.03432977712526304]\n"
     ]
    }
   ],
   "source": [
    "import math\n",
    "\n",
    "n=10\n",
    "campos=[]\n",
    "a=5.0\n",
    "b=3.0\n",
    "m=16.0\n",
    "ser=0.0\n",
    "\n",
    "def congruencialMixto(entrada):\n",
    "    Xn = ((a*entrada)+b)%m\n",
    "    return Xn\n",
    "\n",
    "lamb=input(\"Ingrese el valor de lambda: \\n\")\n",
    "semilla=input(\"Ingrese el valor de la semilla: \\n\")\n",
    "esp=congruencialMixto(semilla)\n",
    "\n",
    "for i in range(n):\n",
    "\tser=(1.0/lamb+0.0)*math.log1p(esp/m)\n",
    "\tprint (1.0/lamb+0.0)\n",
    "\tcampos.append(ser)\n",
    "\tesp=congruencialMixto(esp)\n",
    "\n",
    "print campos"
   ]
  },
  {
   "cell_type": "code",
   "execution_count": null,
   "metadata": {
    "collapsed": true
   },
   "outputs": [],
   "source": []
  }
 ],
 "metadata": {
  "kernelspec": {
   "display_name": "Python 2",
   "language": "python",
   "name": "python2"
  },
  "language_info": {
   "codemirror_mode": {
    "name": "ipython",
    "version": 2
   },
   "file_extension": ".py",
   "mimetype": "text/x-python",
   "name": "python",
   "nbconvert_exporter": "python",
   "pygments_lexer": "ipython2",
   "version": "2.7.11"
  }
 },
 "nbformat": 4,
 "nbformat_minor": 0
}
