{
 "cells": [
  {
   "cell_type": "code",
   "execution_count": 1,
   "metadata": {
    "collapsed": false,
    "scrolled": true
   },
   "outputs": [
    {
     "name": "stdout",
     "output_type": "stream",
     "text": [
      " Ingrese el numero \n",
      "23\n",
      "ingrese el numero de iteraciones \n",
      "2\n",
      "El valor de X1 es: 2.0 el valor de U1 es: 0.0869565217391\n",
      "El valor de X2 es: 12.0 el valor de U2 es: 0.521739130435\n"
     ]
    }
   ],
   "source": [
    "import math\n",
    "a=5.0\n",
    "b=2.0\n",
    "mod=23.0\n",
    "x0 = input(\" Ingrese el numero \\n\")\n",
    "Iteracion = input (\"ingrese el numero de iteraciones \\n\")\n",
    "i=0\n",
    "Xn=0.0\n",
    "Un=0.0\n",
    "while i<Iteracion:\n",
    "\tXn = ((a*x0)+b)%mod\n",
    "\tUn = Xn/mod\n",
    "\tprint \"El valor de X\"+str(i+1)+\" es: \"+str(Xn)+\" el valor de U\"+str(i+1)+\" es: \"+str(Un)\n",
    "\tx0=Xn\n",
    "\ti+=1"
   ]
  },
  {
   "cell_type": "code",
   "execution_count": null,
   "metadata": {
    "collapsed": true
   },
   "outputs": [],
   "source": []
  }
 ],
 "metadata": {
  "kernelspec": {
   "display_name": "Python 2",
   "language": "python",
   "name": "python2"
  },
  "language_info": {
   "codemirror_mode": {
    "name": "ipython",
    "version": 2
   },
   "file_extension": ".py",
   "mimetype": "text/x-python",
   "name": "python",
   "nbconvert_exporter": "python",
   "pygments_lexer": "ipython2",
   "version": "2.7.11"
  }
 },
 "nbformat": 4,
 "nbformat_minor": 0
}
