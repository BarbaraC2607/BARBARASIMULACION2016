{
 "cells": [
  {
   "cell_type": "code",
   "execution_count": 1,
   "metadata": {
    "collapsed": false
   },
   "outputs": [
    {
     "name": "stdout",
     "output_type": "stream",
     "text": [
      "Ingrese el valor de las posibilidades de exito: \n",
      "23\n",
      "Ingrese el valor de la semilla: \n",
      "13\n",
      "9900.0 [23.0, -483.0, 10649.0, -234255.0, 5153633.0, -113379903.0, 2494357889.0, -54875873535.0, 1207269217793.0, -26559922791423.0, 584318301411329.0, -1.2855002631049216e+16, 2.8281005788308275e+17, -6.221821273427821e+18, 1.3688006801541205e+20, -3.011361496339065e+21, 6.624995291945944e+22, -1.4574989642281074e+24, 3.2064977213018362e+25, -7.054294986864041e+26, 1.5519448971100888e+28, -3.4142787736421956e+29, 7.51141330201283e+30, -1.6525109264428225e+32, 3.6355240381742095e+33, -7.998152883983262e+34, 1.7595936344763175e+36, -3.871105995847899e+37, 8.516433190865377e+38, -1.8736153019903828e+40, 4.121953664378842e+41, -9.068298061633454e+42, 1.9950255735593596e+44, -4.3890562618305914e+45, 9.655923776027301e+46, -2.1243032307260065e+48, 4.673467107597214e+49, -1.028162763671387e+51, 2.2619580800770513e+52, -4.976307776169513e+53, 1.0947877107572929e+55, -2.4085329636660448e+56, 5.298772520065298e+57, -1.1657299544143655e+59, 2.564605899711604e+60, -5.642132979365529e+61, 1.2412692554604165e+63, -2.730792362012916e+64, 6.007743196428416e+65, -1.3217035032142514e+67, 2.907747707071353e+68, -6.397044955556977e+69, 1.4073498902225348e+71, -3.096169758489577e+72, 6.811573468677068e+73, -1.4985461631089552e+75, 3.296801558839701e+76, -7.252963429447343e+77, 1.5956519544784152e+79, -3.510434299852514e+80, 7.72295545967553e+81, -1.6990502011286166e+83, 3.737910442482957e+84, -8.223402973462504e+85, 1.809148654161751e+87, -3.9801270391558524e+88, 8.756279486142875e+89, -1.9263814869514325e+91, 4.2380392712931516e+92, -9.323686396844933e+93, 2.0512110073058855e+95, -4.512664216072948e+96, 9.927861275360485e+97, -2.1841294805793066e+99, 4.805084857274475e+100, -1.0571186686003844e+102, 2.325661070920846e+103, -5.116454356025861e+104, 1.1256199583256894e+106, -2.4763639083165167e+107, 5.448000598296336e+108, -1.198560131625194e+110, 2.636832289575427e+111, -5.801031037065939e+112, 1.2762268281545067e+114, -2.8076990219399147e+115, 6.1769378482678126e+116, -1.3589263266189187e+118, 2.989637918561621e+119, -6.577203420835566e+120, 1.4469847525838244e+122, -3.183366455684414e+123, 7.003406202505711e+124, -1.5407493645512563e+126, 3.3896486020127643e+127, -7.457226924428082e+128, 1.6405899233741777e+130, -3.609297831423191e+131, 7.94045522913102e+132, -1.7469001504088245e+134]\n"
     ]
    }
   ],
   "source": [
    "import math\n",
    "from itertools import combinations\n",
    "\n",
    "n=100\n",
    "pux=[]\n",
    "px=[]\n",
    "acumulada=[]\n",
    "a=5.0\n",
    "b=3.0\n",
    "m=16.0\n",
    "suma=0.0\n",
    "acum_sum=0.0\n",
    "\n",
    "def congruencialMixto(entrada):\n",
    "    Xn = ((a*entrada)+b)%m\n",
    "    return Xn\n",
    "\n",
    "def comparar_valores(valor):\n",
    "    numero=0.0\n",
    "    for i in range(len(px)):\n",
    "        if (valor>=acumulada[i]):\n",
    "            numero=pux[i]\n",
    "    return numero\n",
    "\n",
    "def combinations(target,data):\n",
    "\tfor i in range(len(data)):\n",
    "\t\tnew_target = copy.copy(target)\n",
    "\t\tnew_data = copy.copy(data)\n",
    "\t\tnew_target.append(data[i])\n",
    "\t\tnew_data = data[i+1:]\n",
    "\t\tprint new_target\n",
    "\t\tcombinations(new_target,new_data)\n",
    "\n",
    "p=input(\"Ingrese el valor de las posibilidades de exito: \\n\")\n",
    "semilla=input(\"Ingrese el valor de la semilla: \\n\")\n",
    "\n",
    "for i in range(n):\n",
    "    valor=((1-p)**i)*p\n",
    "    pux.append(i)\n",
    "    px.append(valor)\n",
    "    acum_sum+=valor\n",
    "    acumulada.append(acum_sum)\n",
    "\n",
    "envio=congruencialMixto(semilla)\n",
    "for i in range(n):\n",
    "\tenvio=congruencialMixto(envio)\n",
    "\tsuma+=comparar_valores(envio/m)\n",
    "\n",
    "print suma,acumulada"
   ]
  },
  {
   "cell_type": "code",
   "execution_count": null,
   "metadata": {
    "collapsed": true
   },
   "outputs": [],
   "source": []
  }
 ],
 "metadata": {
  "kernelspec": {
   "display_name": "Python 2",
   "language": "python",
   "name": "python2"
  },
  "language_info": {
   "codemirror_mode": {
    "name": "ipython",
    "version": 2
   },
   "file_extension": ".py",
   "mimetype": "text/x-python",
   "name": "python",
   "nbconvert_exporter": "python",
   "pygments_lexer": "ipython2",
   "version": "2.7.11"
  }
 },
 "nbformat": 4,
 "nbformat_minor": 0
}
