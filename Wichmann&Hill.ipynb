{
 "cells": [
  {
   "cell_type": "code",
   "execution_count": 3,
   "metadata": {
    "collapsed": false
   },
   "outputs": [
    {
     "name": "stdout",
     "output_type": "stream",
     "text": [
      "Ingrese el valor de la semilla X0: \n",
      "23\n",
      "Ingrese el valor de la semilla Y0: \n",
      "21\n",
      "Ingrese el valor de la semilla Z0: \n",
      "25\n",
      "ingrese el numero de valores aleatorios: \n",
      "2\n",
      "El valor de X2 es: 3933.0\n",
      "El valor de Y2 es: 3612.0\n",
      "El valor de Z2 es: 4250.0\n",
      "El valor de Un2 es: 0.389272940399\n",
      "El valor de X3 es: 6625.0\n",
      "El valor de Y3 es: 15124.0\n",
      "El valor de Z3 es: 25071.0\n",
      "El valor de Un3 es: 0.544695559437\n"
     ]
    },
    {
     "data": {
      "image/png": "[encoded data removed]",
      "text/plain": [
       "<matplotlib.figure.Figure at 0x3fc8320>"
      ]
     },
     "metadata": {},
     "output_type": "display_data"
    }
   ],
   "source": [
    "%matplotlib inline\n",
    "from matplotlib.pylab import *\n",
    "\n",
    "Un=0.0\n",
    "Xn=0.0\n",
    "Yn=0.0\n",
    "Zn=0.0\n",
    "mx=30269.0\n",
    "my=30307.0\n",
    "mz=30323.0\n",
    "ax=171\n",
    "ay=172\n",
    "az=170\n",
    "i=0\n",
    "x0=input(\"Ingrese el valor de la semilla X0: \\n\")\n",
    "y0=input(\"Ingrese el valor de la semilla Y0: \\n\")\n",
    "z0=input(\"Ingrese el valor de la semilla Z0: \\n\")\n",
    "limite = input (\"ingrese el numero de valores aleatorios: \\n\")\n",
    "datos=[]\n",
    "while i<limite:\n",
    "    Xn = (ax*x0)%mx\n",
    "    Yn = (ay*y0)%my\n",
    "    Zn = (az*z0)%mz\n",
    "    Un=((Xn/mx)+(Yn/my)+(Zn/mz))%1\n",
    "    i+=1\n",
    "    x0=Xn\n",
    "    y0=Yn\n",
    "    z0=Zn\n",
    "    print \"El valor de X\"+str(i+1)+\" es: \"+str(Xn)\n",
    "    print \"El valor de Y\"+str(i+1)+\" es: \"+str(Yn)\n",
    "    print \"El valor de Z\"+str(i+1)+\" es: \"+str(Zn)\n",
    "    print \"El valor de Un\"+str(i+1)+\" es: \"+str(Un)\n",
    "    datos.append(Un)\n",
    "\n",
    "\n",
    "hist(datos,limite,(0,1))\n",
    "plt.grid(True)\n",
    "plt.show()\n"
   ]
  },
  {
   "cell_type": "code",
   "execution_count": null,
   "metadata": {
    "collapsed": true
   },
   "outputs": [],
   "source": []
  }
 ],
 "metadata": {
  "kernelspec": {
   "display_name": "Python 2",
   "language": "python",
   "name": "python2"
  },
  "language_info": {
   "codemirror_mode": {
    "name": "ipython",
    "version": 2
   },
   "file_extension": ".py",
   "mimetype": "text/x-python",
   "name": "python",
   "nbconvert_exporter": "python",
   "pygments_lexer": "ipython2",
   "version": "2.7.11"
  }
 },
 "nbformat": 4,
 "nbformat_minor": 0
}
