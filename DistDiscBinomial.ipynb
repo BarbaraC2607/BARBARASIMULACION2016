{
 "cells": [
  {
   "cell_type": "code",
   "execution_count": 1,
   "metadata": {
    "collapsed": false
   },
   "outputs": [
    {
     "name": "stdout",
     "output_type": "stream",
     "text": [
      "Ingrese el valor de las posibilidades de exito: \n",
      "13\n",
      "Ingrese el valor de la semilla: \n",
      "23\n",
      "Ingrese el numero de ensayos: \n",
      "21\n",
      "420.0 [-4.60051199093697e+22, 1.000611358028791e+24, -1.0337733819634617e+25, 6.7455912260444875e+25, -3.1178811237994266e+26, 1.0850940450454847e+27, -2.950343298627972e+27, 6.41763624918541e+27, -1.1342491643544127e+28, 1.644881959600487e+28, -1.9679885015408824e+28, 1.9459544980289344e+28, -1.587466265471595e+28, 1.0625993071538019e+28, -5.779174759000152e+27, 2.514548977549701e+27, -8.54776290423677e+26, 2.1878323123450723e+26, -3.966628323875932e+25, 4.542186342194177e+24, -2.470645290757841e+23]\n"
     ]
    }
   ],
   "source": [
    "import math\n",
    "\n",
    "pux=[]\n",
    "px=[]\n",
    "acumulada=[]\n",
    "a=5.0\n",
    "b=3.0\n",
    "m=16.0\n",
    "suma=0.0\n",
    "acum_sum=0.0\n",
    "\n",
    "def factorial(x,n):\n",
    "    if (n>0):\n",
    "        x=factorial(x,n-1)\n",
    "        x=x*n\n",
    "    else:\n",
    "        x=1\n",
    "    return x\n",
    "\n",
    "def congruencialMixto(entrada):\n",
    "    Xn = ((a*entrada)+b)%m\n",
    "    return Xn\n",
    "\n",
    "def comparar_valores(valor):\n",
    "    numero=0.0\n",
    "    for i in range(len(px)):\n",
    "        if (valor>=acumulada[i]):\n",
    "            numero=pux[i]\n",
    "    return numero\n",
    "\n",
    "def combinations(target,data):\n",
    "\tfor i in range(len(data)):\n",
    "\t\tnew_target = copy.copy(target)\n",
    "\t\tnew_data = copy.copy(data)\n",
    "\t\tnew_target.append(data[i])\n",
    "\t\tnew_data = data[i+1:]\n",
    "\t\tprint new_target\n",
    "\t\tcombinations(new_target,new_data)\n",
    "\n",
    "\n",
    "p=input(\"Ingrese el valor de las posibilidades de exito: \\n\")\n",
    "semilla=input(\"Ingrese el valor de la semilla: \\n\")\n",
    "n=input(\"Ingrese el numero de ensayos: \\n\")\n",
    "\n",
    "for i in range(n):\n",
    "    valor=(factorial(1,n)/(factorial(1,i)*factorial(1,(n-i))))*(p**i)*((1-p)**(n-i))\n",
    "    pux.append(i)\n",
    "    px.append(valor)\n",
    "    acum_sum+=valor\n",
    "    acumulada.append(acum_sum)\n",
    "\n",
    "envio=congruencialMixto(semilla)\n",
    "for i in range(n):\n",
    "\tenvio=congruencialMixto(envio)\n",
    "\tsuma+=comparar_valores(envio/m)\n",
    "\n",
    "print suma,acumulada"
   ]
  },
  {
   "cell_type": "code",
   "execution_count": null,
   "metadata": {
    "collapsed": true
   },
   "outputs": [],
   "source": []
  }
 ],
 "metadata": {
  "kernelspec": {
   "display_name": "Python 2",
   "language": "python",
   "name": "python2"
  },
  "language_info": {
   "codemirror_mode": {
    "name": "ipython",
    "version": 2
   },
   "file_extension": ".py",
   "mimetype": "text/x-python",
   "name": "python",
   "nbconvert_exporter": "python",
   "pygments_lexer": "ipython2",
   "version": "2.7.11"
  }
 },
 "nbformat": 4,
 "nbformat_minor": 0
}
