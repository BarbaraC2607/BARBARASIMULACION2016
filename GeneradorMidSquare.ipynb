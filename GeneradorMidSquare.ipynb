{
 "cells": [
  {
   "cell_type": "code",
   "execution_count": 1,
   "metadata": {
    "collapsed": false
   },
   "outputs": [
    {
     "name": "stdout",
     "output_type": "stream",
     "text": [
      "Ingrese el numero \n",
      "23\n",
      "ingrese el numero de iteraciones \n",
      "2\n",
      "El elemento cumple para hacer el valor aletaorio Un es: 0.52\n",
      "El elemento cumple para hacer el valor aletaorio Un es: 0.70\n"
     ]
    }
   ],
   "source": [
    "i=0\n",
    "Xn=0.0\n",
    "Un=0.0\n",
    "x0=input(\"Ingrese el numero \\n\")\n",
    "if (len(str(x0))%2) == 0:\n",
    "\tIteracion = input (\"ingrese el numero de iteraciones \\n\")\n",
    "\twhile i<Iteracion:\n",
    "\t\tvalor=x0*x0\n",
    "\t\tconvert=\"\"+str(valor)\n",
    "\t\tif (len(str(valor))%2) == (len(str(x0))%2):\n",
    "\t\t\tz=len(str(x0))/2\n",
    "\t\t\tprint \"El elemento cumple para hacer el valor aletaorio Un es: 0.\"+convert[z:(len(str(convert))-z)]\n",
    "\t\t\tx0=int(convert[z:(len(str(convert))-z)])\n",
    "\t\t\ti+=1\n",
    "\t\telse:\n",
    "\t\t\tconvert=\"0\"+str(valor)\n",
    "\t\t\tz=len(str(x0))/2\n",
    "\t\t\tprint \"El elemento cumple para hacer el valor aletaorio Un es: 0.\"+convert[z:(len(str(convert))-z)]\n",
    "\t\t\tx0=int(convert[z:(len(str(convert))-z)])\n",
    "\t\t\ti+=1\n",
    "else:\n",
    "\tprint \"El numero no cumple con las condiciones, intente con otro numero!\""
   ]
  },
  {
   "cell_type": "code",
   "execution_count": null,
   "metadata": {
    "collapsed": true
   },
   "outputs": [],
   "source": []
  }
 ],
 "metadata": {
  "kernelspec": {
   "display_name": "Python 2",
   "language": "python",
   "name": "python2"
  },
  "language_info": {
   "codemirror_mode": {
    "name": "ipython",
    "version": 2
   },
   "file_extension": ".py",
   "mimetype": "text/x-python",
   "name": "python",
   "nbconvert_exporter": "python",
   "pygments_lexer": "ipython2",
   "version": "2.7.11"
  }
 },
 "nbformat": 4,
 "nbformat_minor": 0
}
