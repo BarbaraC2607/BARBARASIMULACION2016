{
 "cells": [
  {
   "cell_type": "code",
   "execution_count": null,
   "metadata": {
    "collapsed": false
   },
   "outputs": [],
   "source": [
    "import math\n",
    "a=5.0\n",
    "b=3.0\n",
    "m=16.0\n",
    "suma=0.0\n",
    "x=[]\n",
    "px=[]\n",
    "acum_sum=0.0\n",
    "acumulada=[]\n",
    "\n",
    "def congruencialMixto(entrada):\n",
    "    Xn = ((a*entrada)+b)%m\n",
    "    return Xn\n",
    "\n",
    "def comparar_valores(valor):\n",
    "    numero=0.0\n",
    "    for i in range(len(px)):\n",
    "        if (valor>=acumulada[i]):\n",
    "            numero=x[i]\n",
    "    return numero\n",
    "\n",
    "valor = input(\"Ingrese el numero de variables de aleatorias \\n\")\n",
    "for i in range(valor):\n",
    "    dato=input(\"Ingrese el valor de la variable X \"+str(i+1)+\": \\n\")\n",
    "    x.append(dato)\n",
    "    porba=input(\"Ingrese el valor de la Provabilidad de X: \\n\")\n",
    "    px.append(porba+0.0)\n",
    "    acum_sum+=porba\n",
    "    acumulada.append(acum_sum)\n",
    "\n",
    "dados=input(\"ingrese el numero de veces a tirar los dados: \\n\")\n",
    "semilla=input(\"Ingrese la semilla por favor \\n\")\n",
    "envio=congruencialMixto(semilla)\n",
    "\n",
    "for i in range(dados):\n",
    "    envio=congruencialMixto(envio)\n",
    "    suma+=comparar_valores(envio/m)\n",
    "\n",
    "print suma"
   ]
  },
  {
   "cell_type": "code",
   "execution_count": null,
   "metadata": {
    "collapsed": true
   },
   "outputs": [],
   "source": []
  },
  {
   "cell_type": "code",
   "execution_count": null,
   "metadata": {
    "collapsed": true
   },
   "outputs": [],
   "source": []
  },
  {
   "cell_type": "code",
   "execution_count": null,
   "metadata": {
    "collapsed": true
   },
   "outputs": [],
   "source": []
  }
 ],
 "metadata": {
  "kernelspec": {
   "display_name": "Python 2",
   "language": "python",
   "name": "python2"
  },
  "language_info": {
   "codemirror_mode": {
    "name": "ipython",
    "version": 2
   },
   "file_extension": ".py",
   "mimetype": "text/x-python",
   "name": "python",
   "nbconvert_exporter": "python",
   "pygments_lexer": "ipython2",
   "version": "2.7.11"
  }
 },
 "nbformat": 4,
 "nbformat_minor": 0
}
