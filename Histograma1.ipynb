{
 "cells": [
  {
   "cell_type": "code",
   "execution_count": 31,
   "metadata": {
    "collapsed": false
   },
   "outputs": [
    {
     "name": "stdout",
     "output_type": "stream",
     "text": [
      "Parametros ingresados: \n",
      "a = 22 b = 43 modulo = 16\n",
      " Numeros Aleatoriso: \n"
     ]
    },
    {
     "data": {
      "image/png": "[encoded data removed]",
      "text/plain": [
       "<matplotlib.figure.Figure at 0xad7e198>"
      ]
     },
     "metadata": {},
     "output_type": "display_data"
    }
   ],
   "source": [
    "%matplotlib inline\n",
    "import matplotlib.pyplot as plt\n",
    "import numpy as np\n",
    "import random\n",
    "\n",
    "def generadorNumeros(x0, a, b, mod):\n",
    "    semilla = 7\n",
    "    print \"Parametros ingresados: \"\n",
    "    print \"a = \"+str(a)+\" b = \"+str(b)+\" modulo = \"+str(mod)\n",
    "    XnAnterior = 0\n",
    "    randomList = []\n",
    "    \n",
    "    print \" Numeros Aleatoriso: \"\n",
    "    \n",
    "    for i in range(x0):\n",
    "        Xn = float((a*XnAnterior + b)% mod)\n",
    "        XnAnterior = Xn\n",
    "        random = float(Xn/mod)\n",
    "        randomList.append(random)\n",
    "    Histograma(randomList,a,b,mod)\n",
    "\n",
    "def Histograma(randomList,a,b,mod):\n",
    "\n",
    "    plt.hist(randomList)\n",
    "    Tt= plt.title(\"Histograma: \"+\"a = \"+str(a)+\" b = \"+str(b)+ \" modulo = \"+str(mod), loc='left', fontsize=14, color='red')\n",
    "    T = plt.xlabel('Valores entre 0 & 1', fontsize=14, color='red')\n",
    "    F = plt.ylabel('Frecuencia', fontsize=14, color='red')\n",
    "    fig = plt.gcf()\n",
    "    plt.grid(True)\n",
    "    plt.show()\n",
    "\n",
    "def main():\n",
    "    generadorNumeros(6,22,43,16) \n",
    "\n",
    "main()"
   ]
  },
  {
   "cell_type": "code",
   "execution_count": null,
   "metadata": {
    "collapsed": true
   },
   "outputs": [],
   "source": []
  }
 ],
 "metadata": {
  "kernelspec": {
   "display_name": "Python 2",
   "language": "python",
   "name": "python2"
  },
  "language_info": {
   "codemirror_mode": {
    "name": "ipython",
    "version": 2
   },
   "file_extension": ".py",
   "mimetype": "text/x-python",
   "name": "python",
   "nbconvert_exporter": "python",
   "pygments_lexer": "ipython2",
   "version": "2.7.11"
  }
 },
 "nbformat": 4,
 "nbformat_minor": 0
}
