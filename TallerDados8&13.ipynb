{
 "cells": [
  {
   "cell_type": "code",
   "execution_count": 4,
   "metadata": {
    "collapsed": false
   },
   "outputs": [
    {
     "name": "stdout",
     "output_type": "stream",
     "text": [
      "VALOR ESPERADO EXPERIMENTAL= 11.51\n",
      "EL VALOR ESPERADO ES= 11.5\n"
     ]
    },
    {
     "data": {
      "image/png": "[encoded data removed]",
      "text/plain": [
       "<matplotlib.figure.Figure at 0xa184208>"
      ]
     },
     "metadata": {},
     "output_type": "display_data"
    }
   ],
   "source": [
    "%matplotlib inline \n",
    "\n",
    "import numpy as np\n",
    "import matplotlib.pyplot as plt\n",
    "import math\n",
    "\n",
    "mx=30269.0\n",
    "my=30307.0\n",
    "mz=30323.0\n",
    "ax=171\n",
    "ay=172\n",
    "az=170\n",
    "\n",
    "def wichmannHill(Xn, Yn, Zn, n):\n",
    "    rand = []\n",
    "    for i in range(n):\n",
    "        Xn = (ax*Xn)%mx\n",
    "        Yn = (ay*Yn)%my\n",
    "        Zn = (az*Zn)%mz\n",
    "        Un = ((Xn/mx)+(Yn/my)+(Zn/mz))%1\n",
    "        rand.append(Un)\n",
    "    return rand\n",
    "\n",
    "def MetodoInversion(n, x, px):\n",
    "    u=wichmannHill(14327, 23564, 27983, n)\n",
    "    acumulada=[] #Distribucion acumulada\n",
    "    numero=0.0\n",
    "    for i in range(len(px)-1):\n",
    "        acumulada.append(px[i]+numero)\n",
    "        numero=acumulada[i]\n",
    "    acumulada.append(1)\n",
    "    X=[]\n",
    "    for i in range(len(u)):\n",
    "        for numero in range(len(acumulada)):\n",
    "            if u[i]<=acumulada[numero]:\n",
    "                X.append(x[numero])\n",
    "                break\n",
    "    return X    \n",
    "\n",
    "\n",
    "total=104.0\n",
    "\n",
    "x = [2,3,4,5,6,7,8,9,10,11,12,13,14,15,16,17,18,19,20,21]\n",
    "px = [1/(total),2/(total),3/(total),4/(total),5/(total),6/(total),7/(total),8/(total),8/(total),\n",
    "      8/(total),8/(total),8/(total),8/(total),7/(total),6/(total),5/(total),4/(total),3/(total),\n",
    "      2/(total),1/(total)]\n",
    "\n",
    "\n",
    "N = 5000\n",
    "\n",
    "xp = MetodoInversion(N, x, px)\n",
    "\n",
    "p = plt.hist(xp, len(x))\n",
    "plt.grid(True)\n",
    "\n",
    " \n",
    "pxValorEx = np.divide(p[0],N)\n",
    "E= 0.0\n",
    "for i in range(len(x)):\n",
    "   E+= pxValorEx[i]*x[i]\n",
    "print 'VALOR ESPERADO EXPERIMENTAL=',E\n",
    "\n",
    "E=0.0\n",
    "for i in range(len(x)): \n",
    "    E+=x[i]*px[i]\n",
    "print 'EL VALOR ESPERADO ES=',E\n",
    "\n",
    "\n",
    "def main():\n",
    "    MetodoInversion(n,x,px) "
   ]
  },
  {
   "cell_type": "code",
   "execution_count": null,
   "metadata": {
    "collapsed": true
   },
   "outputs": [],
   "source": []
  }
 ],
 "metadata": {
  "kernelspec": {
   "display_name": "Python 2",
   "language": "python",
   "name": "python2"
  },
  "language_info": {
   "codemirror_mode": {
    "name": "ipython",
    "version": 2
   },
   "file_extension": ".py",
   "mimetype": "text/x-python",
   "name": "python",
   "nbconvert_exporter": "python",
   "pygments_lexer": "ipython2",
   "version": "2.7.11"
  }
 },
 "nbformat": 4,
 "nbformat_minor": 0
}
