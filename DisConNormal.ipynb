{
 "cells": [
  {
   "cell_type": "code",
   "execution_count": null,
   "metadata": {
    "collapsed": true
   },
   "outputs": [],
   "source": [
    "import math\n",
    "from scipy.integrate import quad\n",
    "\n",
    "a=5.0\n",
    "b=3.0\n",
    "m=16.0\n",
    "valor=0.0\n",
    "acum_sum=0.0\n",
    "integral=0.0\n",
    "nor=0.0\n",
    "ser=0.0\n",
    "campos=[]\n",
    "\n",
    "def factorial(x,n):\n",
    "    if (n>0):\n",
    "        x=factorial(x,n-1)\n",
    "        x=x*n\n",
    "    else:\n",
    "        x=1\n",
    "    return x\n",
    "\n",
    "def congruencialMixto(entrada):\n",
    "    Xn = ((a*entrada)+b)%m\n",
    "    return Xn\n",
    "\n",
    "def comparar_valores(valor):\n",
    "    numero=0.0\n",
    "    for i in range(len(px)):\n",
    "        if (valor>=acumulada[i]):\n",
    "            numero=pux[i]\n",
    "    return numero\n",
    "\n",
    "def integrand(x):\n",
    "    return math.exp(-x**2)\n",
    "\n",
    "miu=input(\"Ingrese el valor de miu: \\n\")\n",
    "sigma=input(\"Ingrese el valor de sigma: \\n\")\n",
    "semilla=input(\"Ingrese el valor de la semilla: \\n\")\n",
    "nor=congruencialMixto(semilla)\n",
    "\n",
    "for i in range(21):\n",
    "\tinte,err=quad(integrand,0.0,((2.0*((nor+0.0)/(m+0.0)))-1.0))\n",
    "\tintegral=((2.0/((math.pi+0.0)**(1.0/2.0)))+0.0)*inte\n",
    "\tser=miu+(sigma*math.sqrt(2.0))*integral\n",
    "\tcampos.append(ser)\n",
    "\tnor=congruencialMixto(nor)\n",
    "\n",
    "print campos"
   ]
  }
 ],
 "metadata": {
  "kernelspec": {
   "display_name": "Python 2",
   "language": "python",
   "name": "python2"
  },
  "language_info": {
   "codemirror_mode": {
    "name": "ipython",
    "version": 2
   },
   "file_extension": ".py",
   "mimetype": "text/x-python",
   "name": "python",
   "nbconvert_exporter": "python",
   "pygments_lexer": "ipython2",
   "version": "2.7.11"
  }
 },
 "nbformat": 4,
 "nbformat_minor": 0
}
